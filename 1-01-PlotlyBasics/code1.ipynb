{
 "cells": [
  {
   "cell_type": "code",
   "execution_count": 1,
   "metadata": {},
   "outputs": [],
   "source": [
    "import numpy as np\n",
    "import plotly.graph_objects as go\n",
    "import plotly.offline as pyo"
   ]
  },
  {
   "cell_type": "code",
   "execution_count": 2,
   "id": "06d86093",
   "metadata": {},
   "outputs": [],
   "source": [
    "np.random.seed(56)\n"
   ]
  },
  {
   "cell_type": "code",
   "execution_count": 3,
   "id": "2a50f66e",
   "metadata": {},
   "outputs": [],
   "source": [
    "random_x=np.random.randint(1,101,100)\n",
    "random_y=np.random.randint(1,101,100)\n"
   ]
  },
  {
   "cell_type": "code",
   "execution_count": 4,
   "id": "75269fa3",
   "metadata": {},
   "outputs": [],
   "source": [
    "data = [go.Scatter(x=random_x,\n",
    "                   y=random_y, \n",
    "                   mode='markers',\n",
    "                   marker=dict(\n",
    "                       size=12,\n",
    "                       color='rgb(153,12,42)',\n",
    "                       symbol='pentagon',\n",
    "                       line=dict(\n",
    "                           color='rgb(0,0,0)',\n",
    "                           width=2\n",
    "                   )))]"
   ]
  },
  {
   "cell_type": "code",
   "execution_count": 5,
   "id": "2de6026f",
   "metadata": {},
   "outputs": [],
   "source": [
    "layout=go.Layout(title=\"Hello First Plot\",\n",
    "                 xaxis={'title':\"My x-axis\"},\n",
    "                 yaxis=dict(title=\"My y-axis\"),\n",
    "                 hovermode=\"closest\")\n",
    "\n",
    "fig=go.Figure(data=data,layout=layout)"
   ]
  },
  {
   "cell_type": "code",
   "execution_count": 6,
   "id": "4cff3df2",
   "metadata": {},
   "outputs": [
    {
     "data": {
      "text/plain": [
       "'scatter.html'"
      ]
     },
     "execution_count": 6,
     "metadata": {},
     "output_type": "execute_result"
    }
   ],
   "source": [
    "pyo.plot(fig,filename='scatter.html')"
   ]
  },
  {
   "cell_type": "code",
   "execution_count": 7,
   "id": "89a9efca",
   "metadata": {},
   "outputs": [],
   "source": [
    "x_values=np.linspace(0,1,100)\n",
    "y_values=np.random.randn(100)"
   ]
  },
  {
   "cell_type": "code",
   "execution_count": 8,
   "id": "61e2592e",
   "metadata": {},
   "outputs": [],
   "source": [
    "trace0=go.Scatter(x=x_values, y=y_values+5, \n",
    "                 mode='markers', name='markers')\n",
    "\n",
    "trace1=go.Scatter(x=x_values, y=y_values, \n",
    "                 mode='lines', name='mylines')\n",
    "\n",
    "trace2=go.Scatter(x=x_values, y=y_values-5, \n",
    "                 mode='lines+markers', name='myfav')\n",
    "\n",
    "data = [trace0,trace1,trace2]\n",
    "\n",
    "layout=go.Layout(title='Line Charts')\n",
    "\n",
    "\n",
    "fig = go.Figure(data=data, layout=layout)"
   ]
  },
  {
   "cell_type": "code",
   "execution_count": 9,
   "id": "f09bbcfd",
   "metadata": {},
   "outputs": [
    {
     "data": {
      "text/plain": [
       "'temp-plot.html'"
      ]
     },
     "execution_count": 9,
     "metadata": {},
     "output_type": "execute_result"
    }
   ],
   "source": [
    "pyo.plot(fig)"
   ]
  },
  {
   "cell_type": "code",
   "execution_count": 10,
   "id": "7ac9152a",
   "metadata": {},
   "outputs": [],
   "source": [
    "import pandas as pd"
   ]
  },
  {
   "cell_type": "code",
   "execution_count": 11,
   "id": "9020b021",
   "metadata": {},
   "outputs": [
    {
     "data": {
      "text/html": [
       "<div>\n",
       "<style scoped>\n",
       "    .dataframe tbody tr th:only-of-type {\n",
       "        vertical-align: middle;\n",
       "    }\n",
       "\n",
       "    .dataframe tbody tr th {\n",
       "        vertical-align: top;\n",
       "    }\n",
       "\n",
       "    .dataframe thead th {\n",
       "        text-align: right;\n",
       "    }\n",
       "</style>\n",
       "<table border=\"1\" class=\"dataframe\">\n",
       "  <thead>\n",
       "    <tr style=\"text-align: right;\">\n",
       "      <th></th>\n",
       "      <th>PopEstimate2010</th>\n",
       "      <th>PopEstimate2011</th>\n",
       "      <th>PopEstimate2012</th>\n",
       "      <th>PopEstimate2013</th>\n",
       "      <th>PopEstimate2014</th>\n",
       "      <th>PopEstimate2015</th>\n",
       "      <th>PopEstimate2016</th>\n",
       "      <th>PopEstimate2017</th>\n",
       "    </tr>\n",
       "    <tr>\n",
       "      <th>Name</th>\n",
       "      <th></th>\n",
       "      <th></th>\n",
       "      <th></th>\n",
       "      <th></th>\n",
       "      <th></th>\n",
       "      <th></th>\n",
       "      <th></th>\n",
       "      <th></th>\n",
       "    </tr>\n",
       "  </thead>\n",
       "  <tbody>\n",
       "    <tr>\n",
       "      <th>Connecticut</th>\n",
       "      <td>3580171</td>\n",
       "      <td>3591927</td>\n",
       "      <td>3597705</td>\n",
       "      <td>3602470</td>\n",
       "      <td>3600188</td>\n",
       "      <td>3593862</td>\n",
       "      <td>3587685</td>\n",
       "      <td>3588184</td>\n",
       "    </tr>\n",
       "    <tr>\n",
       "      <th>Maine</th>\n",
       "      <td>1327568</td>\n",
       "      <td>1327968</td>\n",
       "      <td>1328101</td>\n",
       "      <td>1327975</td>\n",
       "      <td>1328903</td>\n",
       "      <td>1327787</td>\n",
       "      <td>1330232</td>\n",
       "      <td>1335907</td>\n",
       "    </tr>\n",
       "    <tr>\n",
       "      <th>Massachusetts</th>\n",
       "      <td>6564943</td>\n",
       "      <td>6612178</td>\n",
       "      <td>6659627</td>\n",
       "      <td>6711138</td>\n",
       "      <td>6757925</td>\n",
       "      <td>6794002</td>\n",
       "      <td>6823721</td>\n",
       "      <td>6859819</td>\n",
       "    </tr>\n",
       "    <tr>\n",
       "      <th>New Hampshire</th>\n",
       "      <td>1316700</td>\n",
       "      <td>1318345</td>\n",
       "      <td>1320923</td>\n",
       "      <td>1322622</td>\n",
       "      <td>1328684</td>\n",
       "      <td>1330134</td>\n",
       "      <td>1335015</td>\n",
       "      <td>1342795</td>\n",
       "    </tr>\n",
       "    <tr>\n",
       "      <th>Rhode Island</th>\n",
       "      <td>1053169</td>\n",
       "      <td>1052154</td>\n",
       "      <td>1052761</td>\n",
       "      <td>1052784</td>\n",
       "      <td>1054782</td>\n",
       "      <td>1055916</td>\n",
       "      <td>1057566</td>\n",
       "      <td>1059639</td>\n",
       "    </tr>\n",
       "  </tbody>\n",
       "</table>\n",
       "</div>"
      ],
      "text/plain": [
       "               PopEstimate2010  PopEstimate2011  PopEstimate2012  \\\n",
       "Name                                                               \n",
       "Connecticut            3580171          3591927          3597705   \n",
       "Maine                  1327568          1327968          1328101   \n",
       "Massachusetts          6564943          6612178          6659627   \n",
       "New Hampshire          1316700          1318345          1320923   \n",
       "Rhode Island           1053169          1052154          1052761   \n",
       "\n",
       "               PopEstimate2013  PopEstimate2014  PopEstimate2015  \\\n",
       "Name                                                               \n",
       "Connecticut            3602470          3600188          3593862   \n",
       "Maine                  1327975          1328903          1327787   \n",
       "Massachusetts          6711138          6757925          6794002   \n",
       "New Hampshire          1322622          1328684          1330134   \n",
       "Rhode Island           1052784          1054782          1055916   \n",
       "\n",
       "               PopEstimate2016  PopEstimate2017  \n",
       "Name                                             \n",
       "Connecticut            3587685          3588184  \n",
       "Maine                  1330232          1335907  \n",
       "Massachusetts          6823721          6859819  \n",
       "New Hampshire          1335015          1342795  \n",
       "Rhode Island           1057566          1059639  "
      ]
     },
     "execution_count": 11,
     "metadata": {},
     "output_type": "execute_result"
    }
   ],
   "source": [
    "df=pd.read_csv('~/Plotly-Dashboards-with-Dash/Data/population.csv',index_col=0)\n",
    "df.head()"
   ]
  },
  {
   "cell_type": "code",
   "execution_count": 12,
   "id": "2de27694",
   "metadata": {},
   "outputs": [
    {
     "data": {
      "text/plain": [
       "'temp-plot.html'"
      ]
     },
     "execution_count": 12,
     "metadata": {},
     "output_type": "execute_result"
    }
   ],
   "source": [
    "data=[go.Scatter(x=df.columns,y=df.loc[name],\n",
    "                 mode='lines',name=name) \n",
    "      for name in df.index]\n",
    "\n",
    "pyo.plot(data)"
   ]
  },
  {
   "cell_type": "code",
   "execution_count": 13,
   "id": "7e1074c3",
   "metadata": {},
   "outputs": [
    {
     "name": "stdout",
     "output_type": "stream",
     "text": [
      "    Rank                NOC  Gold  Silver  Bronze  Total\n",
      "0      1             Norway    14      14      11     39\n",
      "1      2            Germany    14      10       7     31\n",
      "2      3             Canada    11       8      10     29\n",
      "3      4      United States     9       8       6     23\n",
      "4      5        Netherlands     8       6       6     20\n",
      "5      6             Sweden     7       6       1     14\n",
      "6      7  Republic of Korea     5       8       4     17\n",
      "7      8        Switzerland     5       6       4     15\n",
      "8      9             France     5       4       6     15\n",
      "9     10            Austria     5       3       6     14\n",
      "10    11              Japan     4       5       4     13\n",
      "11    12              Italy     3       2       5     10\n",
      "12    13                OAR     2       6       9     17\n",
      "13    14     Czech Republic     2       2       3      7\n",
      "14    15            Belarus     2       1       0      3\n",
      "15    16              China     1       6       2      9\n",
      "16    17           Slovakia     1       2       0      3\n",
      "17    18            Finland     1       1       4      6\n",
      "18    19      Great Britain     1       0       4      5\n",
      "19    20             Poland     1       0       1      2\n",
      "20    21            Hungary     1       0       0      1\n",
      "21    21            Ukraine     1       0       0      1\n",
      "22    23          Australia     0       2       1      3\n",
      "23    24           Slovenia     0       1       1      2\n",
      "24    25            Belgium     0       1       0      1\n",
      "25    26              Spain     0       0       2      2\n",
      "26    26        New Zealand     0       0       2      2\n",
      "27    28         Kazakhstan     0       0       1      1\n",
      "28    28             Latvia     0       0       1      1\n",
      "29    28      Liechtenstein     0       0       1      1\n"
     ]
    }
   ],
   "source": [
    "df = pd.read_csv('~/Plotly-Dashboards-with-Dash/Data/2018WinterOlympics.csv')\n",
    "print(df)\n"
   ]
  },
  {
   "cell_type": "code",
   "execution_count": 14,
   "id": "745ca0e6",
   "metadata": {},
   "outputs": [],
   "source": [
    "trace1=go.Bar(x=df['NOC'],y=df['Gold'],name='Gold',\n",
    "              marker={'color':'#FFD700'})\n",
    "\n",
    "trace2=go.Bar(x=df['NOC'],y=df['Silver'],name='Silver',\n",
    "              marker={'color':'#9EA0A1'})\n",
    "\n",
    "trace3=go.Bar(x=df['NOC'],y=df['Bronze'],name='Bronze',\n",
    "              marker={'color':'#CD7F32'})"
   ]
  },
  {
   "cell_type": "code",
   "execution_count": 15,
   "id": "94295c1f",
   "metadata": {},
   "outputs": [
    {
     "data": {
      "text/plain": [
       "'temp-plot.html'"
      ]
     },
     "execution_count": 15,
     "metadata": {},
     "output_type": "execute_result"
    }
   ],
   "source": [
    "data=[trace1,trace2,trace3]\n",
    "layout = go.Layout(title='Medals',barmode='stack')\n",
    "fig = go.Figure(data=data, layout=layout)\n",
    "pyo.plot(fig)"
   ]
  },
  {
   "cell_type": "code",
   "execution_count": 16,
   "id": "989e4032",
   "metadata": {},
   "outputs": [
    {
     "data": {
      "text/html": [
       "<div>\n",
       "<style scoped>\n",
       "    .dataframe tbody tr th:only-of-type {\n",
       "        vertical-align: middle;\n",
       "    }\n",
       "\n",
       "    .dataframe tbody tr th {\n",
       "        vertical-align: top;\n",
       "    }\n",
       "\n",
       "    .dataframe thead th {\n",
       "        text-align: right;\n",
       "    }\n",
       "</style>\n",
       "<table border=\"1\" class=\"dataframe\">\n",
       "  <thead>\n",
       "    <tr style=\"text-align: right;\">\n",
       "      <th></th>\n",
       "      <th>Strongly Agree</th>\n",
       "      <th>Somewhat Agree</th>\n",
       "      <th>Neutral</th>\n",
       "      <th>Somewhat Disagree</th>\n",
       "      <th>Strongly Disagree</th>\n",
       "    </tr>\n",
       "  </thead>\n",
       "  <tbody>\n",
       "    <tr>\n",
       "      <th>Question 1</th>\n",
       "      <td>0.45</td>\n",
       "      <td>0.25</td>\n",
       "      <td>0.10</td>\n",
       "      <td>0.12</td>\n",
       "      <td>0.08</td>\n",
       "    </tr>\n",
       "    <tr>\n",
       "      <th>Question 2</th>\n",
       "      <td>0.12</td>\n",
       "      <td>0.07</td>\n",
       "      <td>0.48</td>\n",
       "      <td>0.18</td>\n",
       "      <td>0.15</td>\n",
       "    </tr>\n",
       "    <tr>\n",
       "      <th>Question 3</th>\n",
       "      <td>0.05</td>\n",
       "      <td>0.22</td>\n",
       "      <td>0.19</td>\n",
       "      <td>0.23</td>\n",
       "      <td>0.31</td>\n",
       "    </tr>\n",
       "  </tbody>\n",
       "</table>\n",
       "</div>"
      ],
      "text/plain": [
       "            Strongly Agree  Somewhat Agree  Neutral  Somewhat Disagree  \\\n",
       "Question 1            0.45            0.25     0.10               0.12   \n",
       "Question 2            0.12            0.07     0.48               0.18   \n",
       "Question 3            0.05            0.22     0.19               0.23   \n",
       "\n",
       "            Strongly Disagree  \n",
       "Question 1               0.08  \n",
       "Question 2               0.15  \n",
       "Question 3               0.31  "
      ]
     },
     "execution_count": 16,
     "metadata": {},
     "output_type": "execute_result"
    }
   ],
   "source": [
    "df=pd.df = pd.read_csv('~/Plotly-Dashboards-with-Dash/Data/mocksurvey.csv',\n",
    "                       index_col='Unnamed: 0')\n",
    "df.head()"
   ]
  },
  {
   "cell_type": "code",
   "execution_count": 17,
   "id": "51c1e809",
   "metadata": {},
   "outputs": [],
   "source": [
    "# trace1=go.Bar(x=df.index, y=df['Strongly Agree'], name='Strongly Agree',orientation='h')\n",
    "# trace2=go.Bar(x=df.index, y=df['Somewhat Agree'], name='Agree',orientation='h')\n",
    "# trace4=go.Bar(x=df.index, y=df['Somewhat Disagree'], name='Disagree',orientation='h')\n",
    "# trace5=go.Bar(x=df.index, y=df['Strongly Disagree'], name='Strongly Disagree',orientation='h')\n",
    "# trace3=go.Bar(x=df.index, y=df['Neutral'], name='Neutral',orientation='h')\n",
    "# data=[trace1,trace2,trace3,trace4,trace5]\n",
    "\n",
    "data=[go.Bar(y=df.index, x=df[response], name=response, orientation='h') for response in df.columns]"
   ]
  },
  {
   "cell_type": "code",
   "execution_count": 18,
   "id": "b169b7d3",
   "metadata": {},
   "outputs": [
    {
     "data": {
      "text/plain": [
       "'temp-plot.html'"
      ]
     },
     "execution_count": 18,
     "metadata": {},
     "output_type": "execute_result"
    }
   ],
   "source": [
    "layout = go.Layout(title='Survey',barmode='stack')\n",
    "fig = go.Figure(data=data, layout=layout)\n",
    "pyo.plot(fig)"
   ]
  },
  {
   "cell_type": "code",
   "execution_count": 19,
   "id": "6b50e0eb",
   "metadata": {},
   "outputs": [
    {
     "name": "stdout",
     "output_type": "stream",
     "text": [
      "      mpg  cylinders  displacement horsepower  weight  acceleration  \\\n",
      "0    18.0          8         307.0        130    3504          12.0   \n",
      "1    15.0          8         350.0        165    3693          11.5   \n",
      "2    18.0          8         318.0        150    3436          11.0   \n",
      "3    16.0          8         304.0        150    3433          12.0   \n",
      "4    17.0          8         302.0        140    3449          10.5   \n",
      "5    15.0          8         429.0        198    4341          10.0   \n",
      "6    14.0          8         454.0        220    4354           9.0   \n",
      "7    14.0          8         440.0        215    4312           8.5   \n",
      "8    14.0          8         455.0        225    4425          10.0   \n",
      "9    15.0          8         390.0        190    3850           8.5   \n",
      "10   15.0          8         383.0        170    3563          10.0   \n",
      "11   14.0          8         340.0        160    3609           8.0   \n",
      "12   15.0          8         400.0        150    3761           9.5   \n",
      "13   14.0          8         455.0        225    3086          10.0   \n",
      "14   24.0          4         113.0         95    2372          15.0   \n",
      "15   22.0          6         198.0         95    2833          15.5   \n",
      "16   18.0          6         199.0         97    2774          15.5   \n",
      "17   21.0          6         200.0         85    2587          16.0   \n",
      "18   27.0          4          97.0         88    2130          14.5   \n",
      "19   26.0          4          97.0         46    1835          20.5   \n",
      "20   25.0          4         110.0         87    2672          17.5   \n",
      "21   24.0          4         107.0         90    2430          14.5   \n",
      "22   25.0          4         104.0         95    2375          17.5   \n",
      "23   26.0          4         121.0        113    2234          12.5   \n",
      "24   21.0          6         199.0         90    2648          15.0   \n",
      "25   10.0          8         360.0        215    4615          14.0   \n",
      "26   10.0          8         307.0        200    4376          15.0   \n",
      "27   11.0          8         318.0        210    4382          13.5   \n",
      "28    9.0          8         304.0        193    4732          18.5   \n",
      "29   27.0          4          97.0         88    2130          14.5   \n",
      "..    ...        ...           ...        ...     ...           ...   \n",
      "368  27.0          4         112.0         88    2640          18.6   \n",
      "369  34.0          4         112.0         88    2395          18.0   \n",
      "370  31.0          4         112.0         85    2575          16.2   \n",
      "371  29.0          4         135.0         84    2525          16.0   \n",
      "372  27.0          4         151.0         90    2735          18.0   \n",
      "373  24.0          4         140.0         92    2865          16.4   \n",
      "374  23.0          4         151.0          ?    3035          20.5   \n",
      "375  36.0          4         105.0         74    1980          15.3   \n",
      "376  37.0          4          91.0         68    2025          18.2   \n",
      "377  31.0          4          91.0         68    1970          17.6   \n",
      "378  38.0          4         105.0         63    2125          14.7   \n",
      "379  36.0          4          98.0         70    2125          17.3   \n",
      "380  36.0          4         120.0         88    2160          14.5   \n",
      "381  36.0          4         107.0         75    2205          14.5   \n",
      "382  34.0          4         108.0         70    2245          16.9   \n",
      "383  38.0          4          91.0         67    1965          15.0   \n",
      "384  32.0          4          91.0         67    1965          15.7   \n",
      "385  38.0          4          91.0         67    1995          16.2   \n",
      "386  25.0          6         181.0        110    2945          16.4   \n",
      "387  38.0          6         262.0         85    3015          17.0   \n",
      "388  26.0          4         156.0         92    2585          14.5   \n",
      "389  22.0          6         232.0        112    2835          14.7   \n",
      "390  32.0          4         144.0         96    2665          13.9   \n",
      "391  36.0          4         135.0         84    2370          13.0   \n",
      "392  27.0          4         151.0         90    2950          17.3   \n",
      "393  27.0          4         140.0         86    2790          15.6   \n",
      "394  44.0          4          97.0         52    2130          24.6   \n",
      "395  32.0          4         135.0         84    2295          11.6   \n",
      "396  28.0          4         120.0         79    2625          18.6   \n",
      "397  31.0          4         119.0         82    2720          19.4   \n",
      "\n",
      "     model_year  origin                               name  \n",
      "0            70       1          chevrolet chevelle malibu  \n",
      "1            70       1                  buick skylark 320  \n",
      "2            70       1                 plymouth satellite  \n",
      "3            70       1                      amc rebel sst  \n",
      "4            70       1                        ford torino  \n",
      "5            70       1                   ford galaxie 500  \n",
      "6            70       1                   chevrolet impala  \n",
      "7            70       1                  plymouth fury iii  \n",
      "8            70       1                   pontiac catalina  \n",
      "9            70       1                 amc ambassador dpl  \n",
      "10           70       1                dodge challenger se  \n",
      "11           70       1                 plymouth 'cuda 340  \n",
      "12           70       1              chevrolet monte carlo  \n",
      "13           70       1            buick estate wagon (sw)  \n",
      "14           70       3              toyota corona mark ii  \n",
      "15           70       1                    plymouth duster  \n",
      "16           70       1                         amc hornet  \n",
      "17           70       1                      ford maverick  \n",
      "18           70       3                       datsun pl510  \n",
      "19           70       2       volkswagen 1131 deluxe sedan  \n",
      "20           70       2                        peugeot 504  \n",
      "21           70       2                        audi 100 ls  \n",
      "22           70       2                           saab 99e  \n",
      "23           70       2                           bmw 2002  \n",
      "24           70       1                        amc gremlin  \n",
      "25           70       1                          ford f250  \n",
      "26           70       1                          chevy c20  \n",
      "27           70       1                         dodge d200  \n",
      "28           70       1                           hi 1200d  \n",
      "29           71       3                       datsun pl510  \n",
      "..          ...     ...                                ...  \n",
      "368          82       1           chevrolet cavalier wagon  \n",
      "369          82       1          chevrolet cavalier 2-door  \n",
      "370          82       1         pontiac j2000 se hatchback  \n",
      "371          82       1                     dodge aries se  \n",
      "372          82       1                    pontiac phoenix  \n",
      "373          82       1               ford fairmont futura  \n",
      "374          82       1                     amc concord dl  \n",
      "375          82       2                volkswagen rabbit l  \n",
      "376          82       3                 mazda glc custom l  \n",
      "377          82       3                   mazda glc custom  \n",
      "378          82       1             plymouth horizon miser  \n",
      "379          82       1                     mercury lynx l  \n",
      "380          82       3                   nissan stanza xe  \n",
      "381          82       3                       honda accord  \n",
      "382          82       3                     toyota corolla  \n",
      "383          82       3                        honda civic  \n",
      "384          82       3                 honda civic (auto)  \n",
      "385          82       3                      datsun 310 gx  \n",
      "386          82       1              buick century limited  \n",
      "387          82       1  oldsmobile cutlass ciera (diesel)  \n",
      "388          82       1         chrysler lebaron medallion  \n",
      "389          82       1                     ford granada l  \n",
      "390          82       3                   toyota celica gt  \n",
      "391          82       1                  dodge charger 2.2  \n",
      "392          82       1                   chevrolet camaro  \n",
      "393          82       1                    ford mustang gl  \n",
      "394          82       2                          vw pickup  \n",
      "395          82       1                      dodge rampage  \n",
      "396          82       1                        ford ranger  \n",
      "397          82       1                         chevy s-10  \n",
      "\n",
      "[398 rows x 9 columns]\n"
     ]
    }
   ],
   "source": [
    "df=pd.read_csv('~/Plotly-Dashboards-with-Dash/Data/mpg.csv')\n",
    "print(df)"
   ]
  },
  {
   "cell_type": "code",
   "execution_count": 20,
   "id": "1c243cd0",
   "metadata": {},
   "outputs": [
    {
     "data": {
      "text/plain": [
       "'bubble_chart.html'"
      ]
     },
     "execution_count": 20,
     "metadata": {},
     "output_type": "execute_result"
    }
   ],
   "source": [
    "data=[go.Scatter(x=df['horsepower'],\n",
    "                 y=df['mpg'],\n",
    "                 text=df['name'],\n",
    "                 mode='markers',\n",
    "                 marker=dict(size=df['weight']/100,\n",
    "                             color=df['cylinders'],\n",
    "                             showscale=True))]\n",
    "layout = go.Layout(title='Bubble Chart') #,hoverdistance='closest')\n",
    "fig=go.Figure(data=data,layout=layout)\n",
    "pyo.plot(fig,filename='bubble_chart.html')"
   ]
  },
  {
   "cell_type": "code",
   "execution_count": 21,
   "id": "98a8e012",
   "metadata": {},
   "outputs": [
    {
     "data": {
      "text/plain": [
       "'temp-plot.html'"
      ]
     },
     "execution_count": 21,
     "metadata": {},
     "output_type": "execute_result"
    }
   ],
   "source": [
    "y = [1,14,14,15,16,18,18,19,19,\n",
    "     20,20,23,24,26,27,27,28,29,33,54]\n",
    "\n",
    "data=[go.Box(y=y,boxpoints='outliers',jitter=0.3,pointpos=2.0)]\n",
    "pyo.plot(data)"
   ]
  },
  {
   "cell_type": "code",
   "execution_count": 22,
   "id": "e7e7a4df",
   "metadata": {},
   "outputs": [],
   "source": [
    "snodgrass = [.209,.205,.196,.210,.202,.207,.224,.223,.220,.201]\n",
    "twain = [.225,.262,.217,.240,.230,.229,.235,.217]"
   ]
  },
  {
   "cell_type": "code",
   "execution_count": 23,
   "id": "1c8d4320",
   "metadata": {},
   "outputs": [
    {
     "data": {
      "text/plain": [
       "'temp-plot.html'"
      ]
     },
     "execution_count": 23,
     "metadata": {},
     "output_type": "execute_result"
    }
   ],
   "source": [
    "data=[go.Box(y=snodgrass,name='Snodgrass_data'),\n",
    "      go.Box(y=twain,name='Twain_data')]\n",
    "pyo.plot(data)"
   ]
  },
  {
   "cell_type": "code",
   "execution_count": 24,
   "id": "7d4e52c8",
   "metadata": {},
   "outputs": [
    {
     "data": {
      "text/plain": [
       "'histogram_miles_per_gallon.html'"
      ]
     },
     "execution_count": 24,
     "metadata": {},
     "output_type": "execute_result"
    }
   ],
   "source": [
    "data=[go.Histogram(x=df['mpg'],xbins=dict(start=0,end=50,size=2))]\n",
    "layout = go.Layout(title='Histogram of Miles Per Gallon', xaxis=dict(title='Miles Per Gallon'))\n",
    "fig = go.Figure(data=data, layout=layout)\n",
    "pyo.plot(fig, filename='histogram_miles_per_gallon.html')"
   ]
  },
  {
   "cell_type": "code",
   "execution_count": 25,
   "id": "bd52a28d",
   "metadata": {},
   "outputs": [
    {
     "name": "stdout",
     "output_type": "stream",
     "text": [
      "Requirement already satisfied: scipy in /home/nramallo/anaconda3/envs/pydash/lib/python3.6/site-packages (1.5.4)\n",
      "Requirement already satisfied: numpy>=1.14.5 in /home/nramallo/anaconda3/envs/pydash/lib/python3.6/site-packages (from scipy) (1.19.5)\n",
      "\n",
      "Usage:   \n",
      "  /home/nramallo/anaconda3/envs/pydash/bin/python -m pip install [options] <requirement specifier> [package-index-options] ...\n",
      "  /home/nramallo/anaconda3/envs/pydash/bin/python -m pip install [options] -r <requirements file> [package-index-options] ...\n",
      "  /home/nramallo/anaconda3/envs/pydash/bin/python -m pip install [options] [-e] <vcs project url> ...\n",
      "  /home/nramallo/anaconda3/envs/pydash/bin/python -m pip install [options] [-e] <local project path> ...\n",
      "  /home/nramallo/anaconda3/envs/pydash/bin/python -m pip install [options] <archive url/path> ...\n",
      "\n",
      "no such option: --update\n"
     ]
    }
   ],
   "source": [
    "import plotly.figure_factory as ff\n",
    "import sys\n",
    "!{sys.executable} -m pip install scipy\n",
    "!{sys.executable} -m pip install numpy --update\n",
    "import scipy"
   ]
  },
  {
   "cell_type": "code",
   "execution_count": 26,
   "id": "a76fce93",
   "metadata": {},
   "outputs": [
    {
     "data": {
      "text/plain": [
       "'temp-plot.html'"
      ]
     },
     "execution_count": 26,
     "metadata": {},
     "output_type": "execute_result"
    }
   ],
   "source": [
    "x1=np.random.randn(200)-2\n",
    "x2=np.random.randn(200)\n",
    "x3=np.random.randn(200)+2\n",
    "x4=np.random.randn(200)+4\n",
    "\n",
    "hist_data=[x1,x2,x3,x4]\n",
    "grouplabels=['X1', 'X2', 'X3', 'X4']\n",
    "\n",
    "fig=ff.create_distplot(hist_data,grouplabels,bin_size=[.1,.2,.3,.4])\n",
    "pyo.plot(fig)"
   ]
  },
  {
   "cell_type": "code",
   "execution_count": 27,
   "id": "d9f1426a",
   "metadata": {},
   "outputs": [
    {
     "data": {
      "text/plain": [
       "'temp-plot.html'"
      ]
     },
     "execution_count": 27,
     "metadata": {},
     "output_type": "execute_result"
    }
   ],
   "source": [
    "hist_data=[snodgrass,twain]\n",
    "grouplabels=['SNODGRASS','TWAIN']\n",
    "\n",
    "fig=ff.create_distplot(hist_data=hist_data,group_labels=grouplabels,bin_size=[.01,.01])\n",
    "pyo.plot(fig)"
   ]
  },
  {
   "cell_type": "code",
   "execution_count": 28,
   "id": "97aa97d6",
   "metadata": {},
   "outputs": [],
   "source": [
    "df=pd.read_csv('~/Plotly-Dashboards-with-Dash/Data/2010SantaBarbaraCA.csv')\n"
   ]
  },
  {
   "cell_type": "code",
   "execution_count": 29,
   "id": "ed495729",
   "metadata": {},
   "outputs": [
    {
     "data": {
      "text/plain": [
       "'santa_barbara_heatmap.html'"
      ]
     },
     "execution_count": 29,
     "metadata": {},
     "output_type": "execute_result"
    }
   ],
   "source": [
    "data=[go.Heatmap(z=df['T_HR_AVG'].values.tolist(), x=df['DAY'], y=df['LST_TIME'],\n",
    "                 colorscale='jet')]\n",
    "layout=go.Layout(title='Santa Barbara Heatmap')\n",
    "fig = go.Figure(data=data, layout=layout)\n",
    "pyo.plot(fig, filename='santa_barbara_heatmap.html')"
   ]
  },
  {
   "cell_type": "code",
   "execution_count": 30,
   "id": "2ecbdf9d",
   "metadata": {},
   "outputs": [],
   "source": [
    "df1=pd.read_csv('~/Plotly-Dashboards-with-Dash/Data/2010SantaBarbaraCA.csv')\n",
    "df2=pd.read_csv('~/Plotly-Dashboards-with-Dash/Data/2010YumaAZ.csv')\n",
    "df3=pd.read_csv('~/Plotly-Dashboards-with-Dash/Data/2010SitkaAK.csv')\n"
   ]
  },
  {
   "cell_type": "code",
   "execution_count": 31,
   "id": "95d160c9",
   "metadata": {},
   "outputs": [],
   "source": [
    "trace1=go.Heatmap(x=df1['DAY'],y=df1['LST_TIME'],z=df1['T_HR_AVG'],\n",
    "                  colorscale='Jet',zmin=5,zmax=40)\n",
    "\n",
    "trace2=go.Heatmap(x=df2['DAY'],y=df2['LST_TIME'],z=df2['T_HR_AVG'],\n",
    "                  colorscale='Jet',zmin=5,zmax=40)\n",
    "trace3=go.Heatmap(x=df3['DAY'],y=df3['LST_TIME'],z=df3['T_HR_AVG'],\n",
    "                  colorscale='Jet',zmin=5,zmax=40)\n",
    "\n",
    "data=[trace1,trace2,trace3]\n"
   ]
  },
  {
   "cell_type": "code",
   "execution_count": 32,
   "id": "01207b1c",
   "metadata": {},
   "outputs": [
    {
     "name": "stderr",
     "output_type": "stream",
     "text": [
      "/home/nramallo/anaconda3/envs/pydash/lib/python3.6/site-packages/plotly/tools.py:465: DeprecationWarning:\n",
      "\n",
      "plotly.tools.make_subplots is deprecated, please use plotly.subplots.make_subplots instead\n",
      "\n"
     ]
    },
    {
     "data": {
      "text/plain": [
       "'Cities_heatmap.html'"
      ]
     },
     "execution_count": 32,
     "metadata": {},
     "output_type": "execute_result"
    }
   ],
   "source": [
    "import plotly.tools as tool\n",
    "\n",
    "fig=tool.make_subplots(rows=1,cols=3,subplot_titles=(\"Santa Barbara\",\"Yuma\",\"Sitka\"),\n",
    "                       shared_yaxes=True)\n",
    "\n",
    "fig.append_trace(trace1,1,1)\n",
    "fig.append_trace(trace2,1,2)\n",
    "fig.append_trace(trace3,1,3)\n",
    "\n",
    "fig['layout'].update(title='Temps for Santa Barbara, Yuma, and Sitka')\n",
    "\n",
    "pyo.plot(fig,filename=\"Cities_heatmap.html\")"
   ]
  },
  {
   "cell_type": "code",
   "execution_count": null,
   "id": "31bf7e3e",
   "metadata": {},
   "outputs": [],
   "source": []
  }
 ],
 "metadata": {
  "kernelspec": {
   "display_name": "pydash",
   "language": "python",
   "name": "python3"
  },
  "language_info": {
   "codemirror_mode": {
    "name": "ipython",
    "version": 3
   },
   "file_extension": ".py",
   "mimetype": "text/x-python",
   "name": "python",
   "nbconvert_exporter": "python",
   "pygments_lexer": "ipython3",
   "version": "3.6.13"
  },
  "vscode": {
   "interpreter": {
    "hash": "71e35b116d16001eec6d24d877af7a5bdfc054e10e642c805960ce60d52c89a3"
   }
  }
 },
 "nbformat": 4,
 "nbformat_minor": 5
}
