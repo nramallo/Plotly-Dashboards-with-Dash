{
 "cells": [
  {
   "cell_type": "code",
   "execution_count": 1,
   "metadata": {},
   "outputs": [],
   "source": [
    "import numpy as np\n",
    "import plotly.graph_objects as go\n",
    "import plotly.offline as pyo"
   ]
  },
  {
   "cell_type": "code",
   "execution_count": 2,
   "id": "06d86093",
   "metadata": {},
   "outputs": [],
   "source": [
    "np.random.seed(56)\n"
   ]
  },
  {
   "cell_type": "code",
   "execution_count": null,
   "id": "2a50f66e",
   "metadata": {},
   "outputs": [],
   "source": [
    "random_x=np.random.randint(1,101,100)\n",
    "random_y=np.random.randint(1,101,100)\n"
   ]
  },
  {
   "cell_type": "code",
   "execution_count": 7,
   "id": "75269fa3",
   "metadata": {},
   "outputs": [],
   "source": [
    "data = [go.Scatter(x=random_x,\n",
    "                   y=random_y, \n",
    "                   mode='markers',\n",
    "                   marker=dict(\n",
    "                       size=12,\n",
    "                       color='rgb(153,12,42)',\n",
    "                       symbol='pentagon',\n",
    "                       line=dict(\n",
    "                           color='rgb(0,0,0)',\n",
    "                           width=2\n",
    "                   )))]"
   ]
  },
  {
   "cell_type": "code",
   "execution_count": 8,
   "id": "2de6026f",
   "metadata": {},
   "outputs": [],
   "source": [
    "layout=go.Layout(title=\"Hello First Plot\",\n",
    "                 xaxis={'title':\"My x-axis\"},\n",
    "                 yaxis=dict(title=\"My y-axis\"),\n",
    "                 hovermode=\"closest\")\n",
    "\n",
    "fig=go.Figure(data=data,layout=layout)"
   ]
  },
  {
   "cell_type": "code",
   "execution_count": 9,
   "id": "4cff3df2",
   "metadata": {},
   "outputs": [
    {
     "data": {
      "text/plain": [
       "'scatter.html'"
      ]
     },
     "execution_count": 9,
     "metadata": {},
     "output_type": "execute_result"
    }
   ],
   "source": [
    "pyo.plot(fig,filename='scatter.html')"
   ]
  },
  {
   "cell_type": "code",
   "execution_count": 3,
   "id": "89a9efca",
   "metadata": {},
   "outputs": [],
   "source": [
    "x_values=np.linspace(0,1,100)\n",
    "y_values=np.random.randn(100)"
   ]
  },
  {
   "cell_type": "code",
   "execution_count": 9,
   "id": "61e2592e",
   "metadata": {},
   "outputs": [],
   "source": [
    "trace0=go.Scatter(x=x_values, y=y_values+5, \n",
    "                 mode='markers', name='markers')\n",
    "\n",
    "trace1=go.Scatter(x=x_values, y=y_values, \n",
    "                 mode='lines', name='mylines')\n",
    "\n",
    "trace2=go.Scatter(x=x_values, y=y_values-5, \n",
    "                 mode='lines+markers', name='myfav')\n",
    "\n",
    "data = [trace0,trace1,trace2]\n",
    "\n",
    "layout=go.Layout(title='Line Charts')\n",
    "\n",
    "\n",
    "fig = go.Figure(data=data, layout=layout)"
   ]
  },
  {
   "cell_type": "code",
   "execution_count": 10,
   "id": "f09bbcfd",
   "metadata": {},
   "outputs": [
    {
     "data": {
      "text/plain": [
       "'temp-plot.html'"
      ]
     },
     "execution_count": 10,
     "metadata": {},
     "output_type": "execute_result"
    }
   ],
   "source": [
    "pyo.plot(fig)"
   ]
  },
  {
   "cell_type": "code",
   "execution_count": 11,
   "id": "7ac9152a",
   "metadata": {},
   "outputs": [],
   "source": [
    "import pandas as pd"
   ]
  },
  {
   "cell_type": "code",
   "execution_count": 22,
   "id": "9020b021",
   "metadata": {},
   "outputs": [
    {
     "data": {
      "text/html": [
       "<div>\n",
       "<style scoped>\n",
       "    .dataframe tbody tr th:only-of-type {\n",
       "        vertical-align: middle;\n",
       "    }\n",
       "\n",
       "    .dataframe tbody tr th {\n",
       "        vertical-align: top;\n",
       "    }\n",
       "\n",
       "    .dataframe thead th {\n",
       "        text-align: right;\n",
       "    }\n",
       "</style>\n",
       "<table border=\"1\" class=\"dataframe\">\n",
       "  <thead>\n",
       "    <tr style=\"text-align: right;\">\n",
       "      <th></th>\n",
       "      <th>PopEstimate2010</th>\n",
       "      <th>PopEstimate2011</th>\n",
       "      <th>PopEstimate2012</th>\n",
       "      <th>PopEstimate2013</th>\n",
       "      <th>PopEstimate2014</th>\n",
       "      <th>PopEstimate2015</th>\n",
       "      <th>PopEstimate2016</th>\n",
       "      <th>PopEstimate2017</th>\n",
       "    </tr>\n",
       "    <tr>\n",
       "      <th>Name</th>\n",
       "      <th></th>\n",
       "      <th></th>\n",
       "      <th></th>\n",
       "      <th></th>\n",
       "      <th></th>\n",
       "      <th></th>\n",
       "      <th></th>\n",
       "      <th></th>\n",
       "    </tr>\n",
       "  </thead>\n",
       "  <tbody>\n",
       "    <tr>\n",
       "      <th>Connecticut</th>\n",
       "      <td>3580171</td>\n",
       "      <td>3591927</td>\n",
       "      <td>3597705</td>\n",
       "      <td>3602470</td>\n",
       "      <td>3600188</td>\n",
       "      <td>3593862</td>\n",
       "      <td>3587685</td>\n",
       "      <td>3588184</td>\n",
       "    </tr>\n",
       "    <tr>\n",
       "      <th>Maine</th>\n",
       "      <td>1327568</td>\n",
       "      <td>1327968</td>\n",
       "      <td>1328101</td>\n",
       "      <td>1327975</td>\n",
       "      <td>1328903</td>\n",
       "      <td>1327787</td>\n",
       "      <td>1330232</td>\n",
       "      <td>1335907</td>\n",
       "    </tr>\n",
       "    <tr>\n",
       "      <th>Massachusetts</th>\n",
       "      <td>6564943</td>\n",
       "      <td>6612178</td>\n",
       "      <td>6659627</td>\n",
       "      <td>6711138</td>\n",
       "      <td>6757925</td>\n",
       "      <td>6794002</td>\n",
       "      <td>6823721</td>\n",
       "      <td>6859819</td>\n",
       "    </tr>\n",
       "    <tr>\n",
       "      <th>New Hampshire</th>\n",
       "      <td>1316700</td>\n",
       "      <td>1318345</td>\n",
       "      <td>1320923</td>\n",
       "      <td>1322622</td>\n",
       "      <td>1328684</td>\n",
       "      <td>1330134</td>\n",
       "      <td>1335015</td>\n",
       "      <td>1342795</td>\n",
       "    </tr>\n",
       "    <tr>\n",
       "      <th>Rhode Island</th>\n",
       "      <td>1053169</td>\n",
       "      <td>1052154</td>\n",
       "      <td>1052761</td>\n",
       "      <td>1052784</td>\n",
       "      <td>1054782</td>\n",
       "      <td>1055916</td>\n",
       "      <td>1057566</td>\n",
       "      <td>1059639</td>\n",
       "    </tr>\n",
       "  </tbody>\n",
       "</table>\n",
       "</div>"
      ],
      "text/plain": [
       "               PopEstimate2010  PopEstimate2011  PopEstimate2012  \\\n",
       "Name                                                               \n",
       "Connecticut            3580171          3591927          3597705   \n",
       "Maine                  1327568          1327968          1328101   \n",
       "Massachusetts          6564943          6612178          6659627   \n",
       "New Hampshire          1316700          1318345          1320923   \n",
       "Rhode Island           1053169          1052154          1052761   \n",
       "\n",
       "               PopEstimate2013  PopEstimate2014  PopEstimate2015  \\\n",
       "Name                                                               \n",
       "Connecticut            3602470          3600188          3593862   \n",
       "Maine                  1327975          1328903          1327787   \n",
       "Massachusetts          6711138          6757925          6794002   \n",
       "New Hampshire          1322622          1328684          1330134   \n",
       "Rhode Island           1052784          1054782          1055916   \n",
       "\n",
       "               PopEstimate2016  PopEstimate2017  \n",
       "Name                                             \n",
       "Connecticut            3587685          3588184  \n",
       "Maine                  1330232          1335907  \n",
       "Massachusetts          6823721          6859819  \n",
       "New Hampshire          1335015          1342795  \n",
       "Rhode Island           1057566          1059639  "
      ]
     },
     "execution_count": 22,
     "metadata": {},
     "output_type": "execute_result"
    }
   ],
   "source": [
    "df=pd.read_csv('~/Plotly-Dashboards-with-Dash/Data/population.csv',index_col=0)\n",
    "df.head()"
   ]
  },
  {
   "cell_type": "code",
   "execution_count": 23,
   "id": "2de27694",
   "metadata": {},
   "outputs": [
    {
     "data": {
      "text/plain": [
       "'temp-plot.html'"
      ]
     },
     "execution_count": 23,
     "metadata": {},
     "output_type": "execute_result"
    }
   ],
   "source": [
    "data=[go.Scatter(x=df.columns,y=df.loc[name],\n",
    "                 mode='lines',name=name) \n",
    "      for name in df.index]\n",
    "\n",
    "pyo.plot(data)"
   ]
  }
 ],
 "metadata": {
  "kernelspec": {
   "display_name": "pydash",
   "language": "python",
   "name": "python3"
  },
  "language_info": {
   "codemirror_mode": {
    "name": "ipython",
    "version": 3
   },
   "file_extension": ".py",
   "mimetype": "text/x-python",
   "name": "python",
   "nbconvert_exporter": "python",
   "pygments_lexer": "ipython3",
   "version": "3.6.13"
  },
  "vscode": {
   "interpreter": {
    "hash": "71e35b116d16001eec6d24d877af7a5bdfc054e10e642c805960ce60d52c89a3"
   }
  }
 },
 "nbformat": 4,
 "nbformat_minor": 5
}
